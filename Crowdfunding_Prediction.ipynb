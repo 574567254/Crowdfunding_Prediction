{
 "cells": [
  {
   "cell_type": "markdown",
   "id": "d5326491",
   "metadata": {},
   "source": [
    "# Crowdfunding Prediction"
   ]
  },
  {
   "cell_type": "markdown",
   "id": "55161891",
   "metadata": {},
   "source": [
    "### Import packages"
   ]
  },
  {
   "cell_type": "code",
   "execution_count": 5,
   "id": "508a6df2",
   "metadata": {},
   "outputs": [],
   "source": [
    "import pandas\n",
    "import numpy as np\n",
    "from sklearn.neighbors import KNeighborsClassifier\n",
    "from sklearn.preprocessing import StandardScaler\n",
    "from sklearn.model_selection import train_test_split\n",
    "from sklearn import metrics\n",
    "from sklearn.ensemble import RandomForestClassifier \n",
    "from sklearn.model_selection import cross_val_score\n",
    "from sklearn.ensemble import GradientBoostingClassifier\n",
    "from sklearn import datasets\n",
    "from sklearn.cluster import KMeans\n",
    "from sklearn.metrics import silhouette_samples\n",
    "from sklearn.metrics import silhouette_score\n",
    "import matplotlib.pyplot as pyplot\n",
    "from sklearn.metrics import silhouette_score"
   ]
  },
  {
   "cell_type": "code",
   "execution_count": 2,
   "id": "9e28e0f0",
   "metadata": {},
   "outputs": [],
   "source": [
    "standardizer = StandardScaler()"
   ]
  },
  {
   "cell_type": "markdown",
   "id": "e98226a5",
   "metadata": {},
   "source": [
    "### Import data"
   ]
  },
  {
   "cell_type": "code",
   "execution_count": 3,
   "id": "744e7a38",
   "metadata": {},
   "outputs": [],
   "source": [
    "kickstarter_df = pandas.read_excel(\"Kickstarter.xlsx\")"
   ]
  },
  {
   "cell_type": "markdown",
   "id": "1f068424",
   "metadata": {},
   "source": [
    "## Task: Preprocess \n",
    "\n",
    "There are 45 variables in the dataset, but not every of them plays a vital role in this\n",
    "prediction model. Thus, to make the machine learning feature selection algorithm more efficient, \n",
    "I choose to extract important factors intuitively first.\n",
    "\n",
    "To begin, I choose to use the state variable as the target variable by only keeping the \n",
    "‘successful’ and ‘failed’ status of projects and then dummifying them. The goal and\n",
    "disable_communication are both important, so I select them. There are also some correlated \n",
    "predictors such as country/currency static_usd_rate and name/name_len_clean and blurb_len /\n",
    "blurb_len_clean, to avoid the correlation problem in the prediction model, I only include one \n",
    "predictor in each similar pair. But rather than directly adding goal and static_usd_rate to the \n",
    "model, I notice that the units of values in goal column are not unified, thus I create a new \n",
    "variable by multiplying goal with static_usd_rate to unify the currency. Moreover, most of the \n",
    "text predictors in the dataset do not tend to have a direct impact on the target variable, thus I drop \n",
    "all those variables such as name/category/day/year; but the day range does play an important role \n",
    "in raising funds, so I pick the create_to_launch_days and launch_to_deadline_days.\n",
    "\n",
    "More importantly, the model aims to predict by the time the project launches, so I drop the predictors \n",
    "such as backers_count/staff_pick/pledged/usd_pledged/launch_to_state_change_days. The \n",
    "spotlight is perfectly correlated with the target variable, and I also drop it before constructing the \n",
    "model. As such, this model ends up with 6 predictors and 1 target variable\n",
    "in total."
   ]
  },
  {
   "cell_type": "code",
   "execution_count": 4,
   "id": "739b9d4c",
   "metadata": {
    "scrolled": false
   },
   "outputs": [
    {
     "name": "stderr",
     "output_type": "stream",
     "text": [
      "/var/folders/f5/7w8rh9rx11938lxyvdr2g_940000gn/T/ipykernel_45645/947429085.py:4: SettingWithCopyWarning: \n",
      "A value is trying to be set on a copy of a slice from a DataFrame.\n",
      "Try using .loc[row_indexer,col_indexer] = value instead\n",
      "\n",
      "See the caveats in the documentation: https://pandas.pydata.org/pandas-docs/stable/user_guide/indexing.html#returning-a-view-versus-a-copy\n",
      "  kickstarter['disable_communication'] = np.where(kickstarter['disable_communication'] == True, 'No_communication', 'With_communication')\n"
     ]
    }
   ],
   "source": [
    "#only include observations where the variable “state” takes the value “successful” or “failure” \n",
    "kickstarter = kickstarter_df[(kickstarter_df['state'] == 'successful') | (kickstarter_df['state'] == 'failed')]\n",
    "#reassign values to variables before converting to dummies\n",
    "kickstarter['disable_communication'] = np.where(kickstarter['disable_communication'] == True, 'No_communication', 'With_communication')\n",
    "\n",
    "# For analysis - we need to change these variables as dummy variables\n",
    "dummy_state=pandas.get_dummies(kickstarter.state)\n",
    "dummy_disable_communication=pandas.get_dummies(kickstarter.disable_communication)\n",
    "# genearte final data for analysis including dummy variables\n",
    "kickstarter = kickstarter.join(dummy_state)\n",
    "kickstarter = kickstarter.join(dummy_disable_communication)\n",
    "\n",
    "#assign new column as goal*static_usd_rate\n",
    "kickstarter['goal_usd'] = kickstarter['static_usd_rate']*kickstarter['goal']\n",
    "\n",
    "#new dataframe with used variables\n",
    "kickstarter_used = kickstarter[[\"successful\", 'goal_usd',  'With_communication',\n",
    "                              'name_len', 'blurb_len', 'launch_to_deadline_days', 'create_to_launch_days']]\n",
    "kickstarter_used = kickstarter_used.dropna()"
   ]
  },
  {
   "cell_type": "markdown",
   "id": "d988469a",
   "metadata": {},
   "source": [
    "## Task: classification model"
   ]
  },
  {
   "cell_type": "code",
   "execution_count": 6,
   "id": "ea93f3a4",
   "metadata": {},
   "outputs": [],
   "source": [
    "y = kickstarter_used['successful']\n",
    "X = kickstarter_used.drop(columns=['successful'])"
   ]
  },
  {
   "cell_type": "markdown",
   "id": "7adae925",
   "metadata": {},
   "source": [
    "### Feature Selection with Random Forest"
   ]
  },
  {
   "cell_type": "code",
   "execution_count": 7,
   "id": "01242947",
   "metadata": {},
   "outputs": [],
   "source": [
    "randomforest = RandomForestClassifier(random_state=5, oob_score=True)\n",
    "model1 = randomforest.fit(X, y)"
   ]
  },
  {
   "cell_type": "markdown",
   "id": "5a9c69c9",
   "metadata": {},
   "source": [
    "### To find the important features"
   ]
  },
  {
   "cell_type": "code",
   "execution_count": 8,
   "id": "c28fcf0d",
   "metadata": {},
   "outputs": [],
   "source": [
    "coe = list()\n",
    "for i in range(len(model1.feature_importances_)):\n",
    "    a = model1.feature_importances_[i]\n",
    "    coe.append(a)  \n",
    "li = []\n",
    "for i in range(len(coe)):\n",
    "    if coe[i] > 0:\n",
    "        li.append(i)\n"
   ]
  },
  {
   "cell_type": "markdown",
   "id": "320b4762",
   "metadata": {},
   "source": [
    "### To get the three most important predictors"
   ]
  },
  {
   "cell_type": "code",
   "execution_count": 9,
   "id": "eb4f5f22",
   "metadata": {},
   "outputs": [],
   "source": [
    "import heapq\n",
    "col = heapq.nlargest(3, range(len(coe)), key=coe.__getitem__)\n",
    "X.columns[col]\n",
    "rf_X = X[X.columns[col]]\n",
    "#standardize\n",
    "rf_X_std = standardizer.fit_transform(rf_X)"
   ]
  },
  {
   "cell_type": "markdown",
   "id": "015190fa",
   "metadata": {},
   "source": [
    "In this prediction model, the three most important predictors are\n",
    "goal_usd, create_to_launch_days and blurb_len. Therefore, I construct the classification and \n",
    "clustering model with these three crucial variables."
   ]
  },
  {
   "cell_type": "markdown",
   "id": "0cebdbcb",
   "metadata": {},
   "source": [
    "### Gradient Boosting"
   ]
  },
  {
   "cell_type": "code",
   "execution_count": 10,
   "id": "a59164af",
   "metadata": {},
   "outputs": [
    {
     "data": {
      "text/plain": [
       "0.6927326816829579"
      ]
     },
     "execution_count": 10,
     "metadata": {},
     "output_type": "execute_result"
    }
   ],
   "source": [
    "###run Gradient Boosting\n",
    "X_train, X_test, y_train, y_test = train_test_split(rf_X , y, test_size = 0.3, random_state = 8)\n",
    "from sklearn.ensemble import GradientBoostingClassifier\n",
    "gbt = GradientBoostingClassifier()\n",
    "model1b = gbt.fit(X_train, y_train)\n",
    "y_test_pred = model1b.predict(X_test)\n",
    "metrics.accuracy_score(y_test, y_test_pred)"
   ]
  },
  {
   "cell_type": "markdown",
   "id": "075efba6",
   "metadata": {},
   "source": [
    "To begin, I use the three predictors selected by Random Forest Algorithm and the target \n",
    "variable “successful” to construct a gradient boosting model. In this model, I randomly split the \n",
    "dataset into 30% for testing and 70% for training, to measure the performance of the prediction. \n",
    "And since the accuracy score of the constructed prediction model is above 69%, it is reasonable \n",
    "to use this classification model to predict the probability of getting enough funding."
   ]
  },
  {
   "cell_type": "markdown",
   "id": "2239ec69",
   "metadata": {},
   "source": [
    "## Algorithms attempted to generate the highest accuracy\n",
    "\n",
    "#### Run K-NN\n",
    "X_train, X_test, y_train, y_test = train_test_split(rf_X_std, y, test_size = 0.3, random_state = 5)\n",
    "\n",
    "knn = KNeighborsClassifier(n_neighbors=5) \n",
    "\n",
    "model1b = knn.fit(X_train,y_train)\n",
    "\n",
    "y_test_pred = model1b.predict(X_test)\n",
    "\n",
    "metrics.accuracy_score(y_test, y_test_pred)\n",
    "\n",
    "from sklearn.metrics import mean_squared_error \n",
    "\n",
    "mse = mean_squared_error(y_test, y_test_pred)\n",
    "\n",
    "print(mse)\n",
    "\n",
    "\n",
    "#### Run random forest\n",
    "X_train, X_test, y_train, y_test = train_test_split(rf_X , y, test_size = 0.3, random_state = 5)\n",
    "\n",
    "model1b = randomforest.fit(X_train,y_train)\n",
    "\n",
    "y_test_pred = model1b.predict(X_test)\n",
    "\n",
    "metrics.accuracy_score(y_test, y_test_pred)\n",
    "\n",
    "\n",
    "#### Run ANN\n",
    "X_train, X_test, y_train, y_test = train_test_split(rf_X_std, y, test_size = 0.3, random_state = 5)\n",
    "\n",
    "from sklearn.neural_network import MLPClassifier\n",
    "\n",
    "mlp = MLPClassifier(hidden_layer_sizes=(11),max_iter=1000,random_state=5)\n",
    "\n",
    "model1b = mlp.fit(X_train,y_train)\n",
    "\n",
    "y_test_pred = model1b.predict(X_test)"
   ]
  },
  {
   "cell_type": "markdown",
   "id": "2665ec0c",
   "metadata": {},
   "source": [
    "## Task: clustering model"
   ]
  },
  {
   "cell_type": "markdown",
   "id": "36013413",
   "metadata": {},
   "source": [
    "### K-Means\n",
    "Using the predictors selected by random forest"
   ]
  },
  {
   "cell_type": "code",
   "execution_count": 11,
   "id": "a52f4526",
   "metadata": {},
   "outputs": [],
   "source": [
    "df2 = X[X.columns[col]]\n",
    "\n",
    "#standardize\n",
    "df2_std = standardizer.fit_transform(df2)"
   ]
  },
  {
   "cell_type": "markdown",
   "id": "98987ad1",
   "metadata": {},
   "source": [
    "### Check the relationship between number of clusters and within-cluster variance"
   ]
  },
  {
   "cell_type": "code",
   "execution_count": 12,
   "id": "e31b5dc6",
   "metadata": {},
   "outputs": [
    {
     "data": {
      "text/plain": [
       "[<matplotlib.lines.Line2D at 0x7f85897b0dc0>]"
      ]
     },
     "execution_count": 12,
     "metadata": {},
     "output_type": "execute_result"
    },
    {
     "data": {
      "image/png": "[encoded data removed]",
      "text/plain": [
       "<Figure size 432x288 with 1 Axes>"
      ]
     },
     "metadata": {
      "needs_background": "light"
     },
     "output_type": "display_data"
    }
   ],
   "source": [
    "withinss = []\n",
    "for i in range (2,8):\n",
    "    kmeans = KMeans(n_clusters=i, random_state = 8)\n",
    "    model = kmeans.fit(df2_std)\n",
    "    withinss.append(model.inertia_)\n",
    "pyplot.plot([2,3,4,5,6,7],withinss)"
   ]
  },
  {
   "cell_type": "markdown",
   "id": "f232d394",
   "metadata": {},
   "source": [
    "### Check the best silhouette_score"
   ]
  },
  {
   "cell_type": "code",
   "execution_count": 13,
   "id": "4cd08912",
   "metadata": {},
   "outputs": [
    {
     "name": "stdout",
     "output_type": "stream",
     "text": [
      "2 : 0.9687056013840496\n",
      "3 : 0.6923259726863932\n",
      "4 : 0.4975667978335678\n"
     ]
    }
   ],
   "source": [
    "for i in range (2,5):    \n",
    "    kmeans = KMeans(n_clusters=i, random_state = 8)\n",
    "    model2 = kmeans.fit(df2_std)\n",
    "    labels = model2.labels_\n",
    "    print(i,':',np.average(silhouette_score(df2_std,labels)))"
   ]
  },
  {
   "cell_type": "markdown",
   "id": "1b8a284d",
   "metadata": {},
   "source": [
    "#### Methodology overview: \n",
    "I firstly apply the Elbow method to check the relationship between number of clusters \n",
    "and within-cluster variance. According to the Elbow, the two values are negatively correlated, \n",
    "and the balance between the two becomes reasonable when it is at 3 or 4 clusters. Thus, I further apply the Silhouette score method to find the optimal K value. Since the silhouette value \n",
    "measures the cohesion within the same cluster and separation among different clusters, I decide \n",
    "to set the number of clusters as 3 (with score equals to 0.69), where the silhouette value is higher\n",
    "than the value with k at 4 (with score equals to 0.498).\n",
    " As such, I get 3 clusters where the object \n",
    "is well matched within cluster but poorly matched to neighboring clusters."
   ]
  },
  {
   "cell_type": "markdown",
   "id": "a2a0bd3d",
   "metadata": {},
   "source": [
    "### Choosing n_clusters=3 which created the relatively great silhouette_score"
   ]
  },
  {
   "cell_type": "code",
   "execution_count": 14,
   "id": "947c62fa",
   "metadata": {},
   "outputs": [
    {
     "data": {
      "text/plain": [
       "0.6923259726863932"
      ]
     },
     "execution_count": 14,
     "metadata": {},
     "output_type": "execute_result"
    }
   ],
   "source": [
    "kmeans = KMeans(n_clusters=3, random_state = 8)\n",
    "model2 = kmeans.fit(df2_std)\n",
    "labels = model2.labels_\n",
    "silhouette = silhouette_samples(df2_std,labels)\n",
    "silhouette_score(df2_std,labels)"
   ]
  },
  {
   "cell_type": "markdown",
   "id": "90fbea69",
   "metadata": {},
   "source": [
    "### Fitting KMeans for 3 Clusters and find centers of clusters"
   ]
  },
  {
   "cell_type": "code",
   "execution_count": 15,
   "id": "511b52d6",
   "metadata": {
    "scrolled": true
   },
   "outputs": [
    {
     "data": {
      "text/html": [
       "<div>\n",
       "<style scoped>\n",
       "    .dataframe tbody tr th:only-of-type {\n",
       "        vertical-align: middle;\n",
       "    }\n",
       "\n",
       "    .dataframe tbody tr th {\n",
       "        vertical-align: top;\n",
       "    }\n",
       "\n",
       "    .dataframe thead th {\n",
       "        text-align: right;\n",
       "    }\n",
       "</style>\n",
       "<table border=\"1\" class=\"dataframe\">\n",
       "  <thead>\n",
       "    <tr style=\"text-align: right;\">\n",
       "      <th></th>\n",
       "      <th>goal_usd</th>\n",
       "      <th>create_to_launch_days</th>\n",
       "      <th>blurb_len</th>\n",
       "    </tr>\n",
       "    <tr>\n",
       "      <th>Cluster</th>\n",
       "      <th></th>\n",
       "      <th></th>\n",
       "      <th></th>\n",
       "    </tr>\n",
       "  </thead>\n",
       "  <tbody>\n",
       "    <tr>\n",
       "      <th>0.0</th>\n",
       "      <td>82578.881176</td>\n",
       "      <td>48.590752</td>\n",
       "      <td>19.050008</td>\n",
       "    </tr>\n",
       "    <tr>\n",
       "      <th>1.0</th>\n",
       "      <td>43920.912272</td>\n",
       "      <td>118.000000</td>\n",
       "      <td>21.000000</td>\n",
       "    </tr>\n",
       "    <tr>\n",
       "      <th>2.0</th>\n",
       "      <td>57545.050905</td>\n",
       "      <td>50.774319</td>\n",
       "      <td>18.538911</td>\n",
       "    </tr>\n",
       "  </tbody>\n",
       "</table>\n",
       "</div>"
      ],
      "text/plain": [
       "             goal_usd  create_to_launch_days  blurb_len\n",
       "Cluster                                                \n",
       "0.0      82578.881176              48.590752  19.050008\n",
       "1.0      43920.912272             118.000000  21.000000\n",
       "2.0      57545.050905              50.774319  18.538911"
      ]
     },
     "execution_count": 15,
     "metadata": {},
     "output_type": "execute_result"
    }
   ],
   "source": [
    "Km = KMeans(init = 'k-means++', n_clusters =3, n_init = 100, random_state = 8).fit(df2_std)\n",
    "labels = pandas.DataFrame(Km.labels_)\n",
    "clustered_data = df2.assign(Cluster = labels)\n",
    "clustered_data.groupby(['Cluster']).mean()"
   ]
  },
  {
   "cell_type": "markdown",
   "id": "45dd3f80",
   "metadata": {},
   "source": [
    "### Clustering analysis\n",
    "\n",
    "Cluster 0: projects with medium level of goal, medium number of days between creation \n",
    "and launch and small length of blurb. \n",
    "\n",
    "Cluster 1: projects with high level of goal, small number of \n",
    "days between creation and launch and medium length of blurb. \n",
    "\n",
    "Cluster 2: projects with low level \n",
    "of goal, large number of days between creation and launch and large length of blurb."
   ]
  },
  {
   "cell_type": "markdown",
   "id": "d632ba7b",
   "metadata": {},
   "source": [
    "## Managerial Implication\n",
    "\n",
    "Accurately predicting the probability of getting enough funds is challenging, but based on \n",
    "the analysis above, the goal of funds in USD, length of blurb and days between creation and \n",
    "launch are three essentials that can both help project owners to understand what to improve and\n",
    "can help crowdfunding platform operators to better arrange the position of projects on the \n",
    "website to avoid social resources wasting. This project gives professionals in the crowdfunding \n",
    "platforms and project owners more insights into the characteristics that influence the chance of \n",
    "success in funding."
   ]
  },
  {
   "cell_type": "code",
   "execution_count": null,
   "id": "e15a18db",
   "metadata": {},
   "outputs": [],
   "source": []
  }
 ],
 "metadata": {
  "kernelspec": {
   "display_name": "Python 3 (ipykernel)",
   "language": "python",
   "name": "python3"
  },
  "language_info": {
   "codemirror_mode": {
    "name": "ipython",
    "version": 3
   },
   "file_extension": ".py",
   "mimetype": "text/x-python",
   "name": "python",
   "nbconvert_exporter": "python",
   "pygments_lexer": "ipython3",
   "version": "3.9.7"
  }
 },
 "nbformat": 4,
 "nbformat_minor": 5
}
